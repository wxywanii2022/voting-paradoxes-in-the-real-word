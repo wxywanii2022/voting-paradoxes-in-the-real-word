{
 "cells": [
  {
   "cell_type": "code",
   "execution_count": 2,
   "metadata": {},
   "outputs": [],
   "source": [
    "import requests\n",
    "from bs4 import BeautifulSoup\n",
    "import pandas as pd\n",
    "\n",
    "def author_ballot_dictionary(Weeks, url, year):\n",
    "    Dictionaries = []\n",
    "    for week in Weeks:\n",
    "        new_url = url + week\n",
    "        response = requests.get(new_url)\n",
    "        if response.status_code == 200:\n",
    "            soup = BeautifulSoup(response.content, 'html.parser')\n",
    "        else:\n",
    "            print(\"bad\")\n",
    "            continue\n",
    "        parent_element = soup.find('div', id='gridBallots')\n",
    "        Dict = {}\n",
    "        if parent_element:\n",
    "            Rows = parent_element.find_all('div', class_='gridRow')\n",
    "            for row in Rows:\n",
    "                author_name = row.find('div', class_='gridPollster').get_text(strip=True)\n",
    "                Team_rows = row.find_all('div', class_= 'gridTeam')\n",
    "                team_names = [author_name, year, Weeks.index(week) + 1]\n",
    "                for item in Team_rows:\n",
    "                    image = item.find('img')\n",
    "                    if not image:\n",
    "                        continue\n",
    "                    team_name = image.get('title')\n",
    "                    team_names.append(team_name)\n",
    "                    Dict[author_name] = team_names\n",
    "        Dictionaries.append(Dict)\n",
    "\n",
    "    return Dictionaries\n",
    "\n",
    "def csv_data_appender_by_year(year): \n",
    "    Weeks = ['pre-season', 'week-2', 'week-3', 'week-4', 'week-5', 'week-6', 'week-7', 'week-8', 'week-9', 'week-10', 'week-11', 'week-12', 'week-13', 'week-14', 'week-15', 'week-16', 'final-rankings']\n",
    "    url = \"https://collegepolltracker.com/football/grid/\" + year + \"/\"\n",
    "    Dictionaries = author_ballot_dictionary(Weeks, url, year)\n",
    "\n",
    "    for dicto in Dictionaries:\n",
    "        df = pd.DataFrame.from_dict(dicto, orient='index', columns=['Pollster', 'Season', 'Week', '1st', '2nd', '3rd', '4th', '5th', '6th', '7th', '8th', '9th', '10th', '11th', '12th', '13th', '14th', '15th', '16th', '17th', '18th', '19th', '20th', '21st', '22nd', '23rd', '24th', '25th'])\n",
    "        df.to_csv('data.csv', mode='a', index=False, header=False)\n",
    "\n",
    "\n",
    "def csv_creation():\n",
    "    years = [\"2014\", \"2015\", \"2016\", \"2017\", \"2018\", \"2019\", \"2020\", \"2021\", \"2022\", \"2023\", \"2024\"]\n",
    "    \n",
    "    for year in years:\n",
    "        csv_data_appender_by_year(year)\n",
    "\n",
    "csv_creation()"
   ]
  },
  {
   "cell_type": "code",
   "execution_count": null,
   "metadata": {},
   "outputs": [],
   "source": []
  }
 ],
 "metadata": {
  "kernelspec": {
   "display_name": "Python 3",
   "language": "python",
   "name": "python3"
  },
  "language_info": {
   "codemirror_mode": {
    "name": "ipython",
    "version": 3
   },
   "file_extension": ".py",
   "mimetype": "text/x-python",
   "name": "python",
   "nbconvert_exporter": "python",
   "pygments_lexer": "ipython3",
   "version": "3.11.9"
  }
 },
 "nbformat": 4,
 "nbformat_minor": 2
}
