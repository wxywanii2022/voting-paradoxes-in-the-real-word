{
 "cells": [
  {
   "cell_type": "code",
   "execution_count": 2,
   "metadata": {},
   "outputs": [],
   "source": [
    "import pandas as pd\n",
    "import os\n",
    "\n",
    "\"\"\"\n",
    "This script processes a CSV file containing AP College Poll Top 25 voting by grouping the data by 'Season' and 'Week'. \n",
    "It extracts the name of voters and saves the results as separate CSV files.\n",
    "\n",
    "Input: A CSV file with AP College Poll Top 25 voting data, including columns for voter names.\n",
    "\n",
    "Output: \n",
    "1.  Separate CSV files for each combination of 'Season' and 'Week', containing sorted lists of unique voters.\n",
    "\"\"\"\n",
    "\n",
    "df = pd.read_csv('../../entire_ballot_data/college_polls_original.csv')\n",
    "\n",
    "grouped = df.groupby(['Season', 'Week'])\n",
    "\n",
    "for (season, week), group in grouped:\n",
    "    #Ensures that the header \"Season\" in not included in the output csv file\n",
    "    if season != \"Season\":\n",
    "        #Extracts all voters corresponding with specified season, week\n",
    "        df_for_season_and_week = pd.read_csv(f\"../../ballot_data_by_season_and_week/season_{season}/{season}_week{week}_top25.csv\")\n",
    "        voters_for_season_and_week = df_for_season_and_week[\"Pollster\"].tolist()\n",
    "\n",
    "        #Creates season folder that will contain names of voters corresponding with that season, if it does not exist\n",
    "        os.makedirs(f\"./season_{season}\", exist_ok=True)\n",
    "        file_name = f\"./season_{season}/{season}_week{week}_voters.csv\"\n",
    "        new_df = pd.DataFrame(voters_for_season_and_week, columns=[\"Voters\"])\n",
    "\n",
    "        # Writes data corresponding with season, week to the corresponding csv file\n",
    "        new_df.to_csv(file_name, index=False)\n",
    "\n"
   ]
  },
  {
   "cell_type": "code",
   "execution_count": null,
   "metadata": {},
   "outputs": [],
   "source": []
  }
 ],
 "metadata": {
  "kernelspec": {
   "display_name": "Python 3",
   "language": "python",
   "name": "python3"
  },
  "language_info": {
   "codemirror_mode": {
    "name": "ipython",
    "version": 3
   },
   "file_extension": ".py",
   "mimetype": "text/x-python",
   "name": "python",
   "nbconvert_exporter": "python",
   "pygments_lexer": "ipython3",
   "version": "3.11.9"
  }
 },
 "nbformat": 4,
 "nbformat_minor": 2
}
