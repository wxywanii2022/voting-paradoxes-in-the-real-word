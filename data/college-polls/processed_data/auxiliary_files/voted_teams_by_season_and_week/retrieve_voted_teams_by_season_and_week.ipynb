{
 "cells": [
  {
   "cell_type": "code",
   "execution_count": null,
   "metadata": {},
   "outputs": [],
   "source": [
    "import pandas as pd\n",
    "import os\n",
    "\n",
    "\"\"\"\n",
    "This script processes a CSV file containing AP College Poll Top 25 voting by grouping the data by 'Season' and 'Week'. \n",
    "It extracts the voted teams (from the top 25 ranks) and saves the results as separate CSV files.\n",
    "\n",
    "Input: A CSV file with AP College Poll Top 25 voting data, including columns for team rankings\n",
    "('1st' to '25th').\n",
    "\n",
    "Output: \n",
    "1.  Separate CSV files for each combination of 'Season' and 'Week', containing sorted lists of unique voted teams.\n",
    "\"\"\"\n",
    "\n",
    "df = pd.read_csv('../../entire_ballot_data/college_polls_original.csv')\n",
    "\n",
    "grouped = df.groupby(['Season', 'Week'])\n",
    "columns_1_to_25 = ['1st', '2nd', '3rd', '4th', '5th', '6th', '7th', '8th', '9th', '10th', '11th', '12th', '13th', '14th', '15th', '16th', '17th', '18th', '19th', '20th', '21st', '22nd', '23rd', '24th', '25th']\n",
    "\n",
    "for (season, week), group in grouped:\n",
    "    #Ensures that the header \"Season\" in not included in the output csv file\n",
    "    if season != \"Season\":\n",
    "        #Extracts all voted teams corresponding with specified season, week\n",
    "        df_for_season_and_week = pd.read_csv(f\"../../ballot_data_by_season_and_week/season_{season}/{season}_week{week}_top25.csv\")\n",
    "        voted_teams_for_season_and_week = []\n",
    "        for col in columns_1_to_25:\n",
    "            voted_teams_for_season_and_week.extend(df_for_season_and_week[col].tolist())\n",
    "\n",
    "        #Ensures the header is not included as part of the output and that there are no duplicate values\n",
    "        teams_without_ranking_nums = set(voted_teams_for_season_and_week).difference(set(columns_1_to_25))\n",
    "        unique_teams = sorted(teams_without_ranking_nums)\n",
    "\n",
    "        #Creates season folder that will contain voted teams corresponding with that season, if it does not exist\n",
    "        os.makedirs(f\"./season_{season}\", exist_ok=True)\n",
    "        file_name = f\"./season_{season}/{season}_week{week}_voted_teams.csv\"\n",
    "        new_df = pd.DataFrame(unique_teams, columns=[\"Voted Teams\"])\n",
    "\n",
    "        # Writes data corresponding with season, week to the corresponding csv file\n",
    "        new_df.to_csv(file_name, index=False)\n"
   ]
  },
  {
   "cell_type": "code",
   "execution_count": null,
   "metadata": {},
   "outputs": [],
   "source": []
  }
 ],
 "metadata": {
  "kernelspec": {
   "display_name": "Python 3",
   "language": "python",
   "name": "python3"
  },
  "language_info": {
   "codemirror_mode": {
    "name": "ipython",
    "version": 3
   },
   "file_extension": ".py",
   "mimetype": "text/x-python",
   "name": "python",
   "nbconvert_exporter": "python",
   "pygments_lexer": "ipython3",
   "version": "3.11.9"
  }
 },
 "nbformat": 4,
 "nbformat_minor": 2
}
