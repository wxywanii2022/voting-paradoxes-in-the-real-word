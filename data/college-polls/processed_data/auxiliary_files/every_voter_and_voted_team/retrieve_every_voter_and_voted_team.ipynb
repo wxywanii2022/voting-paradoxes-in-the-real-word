{
 "cells": [
  {
   "cell_type": "code",
   "execution_count": 7,
   "metadata": {},
   "outputs": [],
   "source": [
    "import pandas as pd\n",
    "import os\n",
    "\n",
    "df = pd.read_csv('../entire_ballot_data/college_polls_original.csv')\n",
    "\n",
    "all_voters = df[\"Pollster\"].tolist()\n",
    "all_unique_voters = sorted(set(all_voters))\n",
    "all_unique_voters.remove(\"Pollster\")\n",
    "new_df = pd.DataFrame(all_unique_voters, columns=[\"Voters\"])\n",
    "new_df.to_csv(\"all_voters.csv\", index=False)\n",
    "\n",
    "columns_1_to_25 = ['1st', '2nd', '3rd', '4th', '5th', '6th', '7th', '8th', '9th', '10th', '11th', '12th', '13th', '14th', '15th', '16th', '17th', '18th', '19th', '20th', '21st', '22nd', '23rd', '24th', '25th']\n",
    "all_voted_teams = []\n",
    "for col in columns_1_to_25:\n",
    "    all_voted_teams.extend(df[col].tolist())\n",
    "\n",
    "all_unique_teams_without_ranking_nums = set(all_voted_teams).difference(set(columns_1_to_25))\n",
    "all_unique_teams = sorted(all_unique_teams_without_ranking_nums)\n",
    "new_df = pd.DataFrame(all_unique_teams, columns=[\"Voted Teams\"])\n",
    "new_df.to_csv(\"all_voted_teams.csv\", index=False)"
   ]
  }
 ],
 "metadata": {
  "kernelspec": {
   "display_name": "Python 3",
   "language": "python",
   "name": "python3"
  },
  "language_info": {
   "codemirror_mode": {
    "name": "ipython",
    "version": 3
   },
   "file_extension": ".py",
   "mimetype": "text/x-python",
   "name": "python",
   "nbconvert_exporter": "python",
   "pygments_lexer": "ipython3",
   "version": "3.10.11"
  }
 },
 "nbformat": 4,
 "nbformat_minor": 2
}
