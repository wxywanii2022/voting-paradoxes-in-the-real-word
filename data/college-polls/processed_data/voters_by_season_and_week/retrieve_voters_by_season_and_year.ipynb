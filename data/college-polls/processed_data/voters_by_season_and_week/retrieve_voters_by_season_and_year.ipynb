{
 "cells": [
  {
   "cell_type": "code",
   "execution_count": 5,
   "metadata": {},
   "outputs": [],
   "source": [
    "import pandas as pd\n",
    "import os\n",
    "\n",
    "df = pd.read_csv('../entire_ballot_data/college_polls_original.csv')\n",
    "\n",
    "grouped = df.groupby(['Season', 'Week'])\n",
    "\n",
    "for (season, week), group in grouped:\n",
    "    if season != \"Season\":\n",
    "        df_for_season_and_week = pd.read_csv(f\"../ballot_data_by_season_and_week/season_{season}/{season}_week{week}_top25.csv\")\n",
    "        voters_for_season_and_week = df_for_season_and_week[\"Pollster\"].tolist()\n",
    "        os.makedirs(f\"./season_{season}\", exist_ok=True)\n",
    "        file_name = f\"./season_{season}/{season}_week{week}_voters.csv\"\n",
    "        new_df = pd.DataFrame(voters_for_season_and_week, columns=[\"Voters\"])\n",
    "        new_df.to_csv(file_name, index=False)\n",
    "\n"
   ]
  }
 ],
 "metadata": {
  "kernelspec": {
   "display_name": "Python 3",
   "language": "python",
   "name": "python3"
  },
  "language_info": {
   "codemirror_mode": {
    "name": "ipython",
    "version": 3
   },
   "file_extension": ".py",
   "mimetype": "text/x-python",
   "name": "python",
   "nbconvert_exporter": "python",
   "pygments_lexer": "ipython3",
   "version": "3.10.11"
  }
 },
 "nbformat": 4,
 "nbformat_minor": 2
}
