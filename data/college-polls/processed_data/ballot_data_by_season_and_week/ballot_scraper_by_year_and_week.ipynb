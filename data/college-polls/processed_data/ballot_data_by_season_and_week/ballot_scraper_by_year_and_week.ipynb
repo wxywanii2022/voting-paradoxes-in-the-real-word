{
 "cells": [
  {
   "cell_type": "code",
   "execution_count": 4,
   "metadata": {},
   "outputs": [],
   "source": [
    "import pandas as pd\n",
    "import os\n",
    "\n",
    "\"\"\"\n",
    "This script processes a CSV file containing AP College Poll Top 25 voting, groups the data by 'Season' and 'Week', \n",
    "and saves separate CSV files for each season and week.\n",
    "\n",
    "Input: A CSV file containing data from all weeks from 2014 to 2024, with columns including 'Season' and 'Week'\n",
    "\n",
    "Output: \n",
    "1. Separate CSV files for each combination of 'Season' and 'Week', stored in the specified directory.\n",
    "\"\"\"\n",
    "\n",
    "\n",
    "df = pd.read_csv('../entire_ballot_data/college_polls_original.csv')\n",
    "grouped = df.groupby(['Season', 'Week'])\n",
    "\n",
    "for (season, week), group in grouped:\n",
    "    #Ensures that the header \"Season\" in not included in the output csv file\n",
    "    if season != \"Season\":\n",
    "        #Creates the season folder that will contain ballot data corresponding with that season, if the file does not already exist\n",
    "        os.makedirs(f\"./season_{season}\", exist_ok=True)\n",
    "        file_name = f\"./season_{season}/{season}_week{week}_top25.csv\"\n",
    "        # Writes data corresponding with season, week to the corresponding csv file\n",
    "        group.to_csv(file_name, index=False)\n",
    "\n"
   ]
  }
 ],
 "metadata": {
  "kernelspec": {
   "display_name": "Python 3",
   "language": "python",
   "name": "python3"
  },
  "language_info": {
   "codemirror_mode": {
    "name": "ipython",
    "version": 3
   },
   "file_extension": ".py",
   "mimetype": "text/x-python",
   "name": "python",
   "nbconvert_exporter": "python",
   "pygments_lexer": "ipython3",
   "version": "3.10.11"
  }
 },
 "nbformat": 4,
 "nbformat_minor": 2
}
