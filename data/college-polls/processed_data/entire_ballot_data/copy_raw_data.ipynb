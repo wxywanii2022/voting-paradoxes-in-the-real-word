{
 "cells": [
  {
   "cell_type": "code",
   "execution_count": 1,
   "metadata": {},
   "outputs": [],
   "source": [
    "import pandas as pd\n",
    "import os\n",
    "\n",
    "\"\"\"\n",
    "This script reads the AP College Poll Top 25 voting raw data located in the 'college_polls_original.csv' file found within\n",
    "the raw_data directory and copies it into the 'college_polls_original.csv' file in this directory.\n",
    "\n",
    "Input: A CSV file containing data from all weeks from 2014 to 2024.\n",
    "\n",
    "Output: \n",
    "1. A CSV file located in the current directory that possess the same data as that of the input CSV file.\n",
    "\"\"\"\n",
    "\n",
    "\n",
    "def copy_raw_csv_file(source_file, destination_file):\n",
    "    df = pd.read_csv(source_file)\n",
    "    df.to_csv(destination_file, index=False)\n",
    "\n",
    "copy_raw_csv_file(\"../../raw_data/college_polls_original.csv\", \"./college_polls_original.csv\")\n"
   ]
  }
 ],
 "metadata": {
  "kernelspec": {
   "display_name": "Python 3",
   "language": "python",
   "name": "python3"
  },
  "language_info": {
   "codemirror_mode": {
    "name": "ipython",
    "version": 3
   },
   "file_extension": ".py",
   "mimetype": "text/x-python",
   "name": "python",
   "nbconvert_exporter": "python",
   "pygments_lexer": "ipython3",
   "version": "3.10.11"
  }
 },
 "nbformat": 4,
 "nbformat_minor": 2
}
