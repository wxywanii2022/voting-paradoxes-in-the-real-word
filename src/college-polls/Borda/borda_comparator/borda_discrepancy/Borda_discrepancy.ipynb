{
 "cells": [
  {
   "cell_type": "code",
   "execution_count": 8,
   "metadata": {},
   "outputs": [],
   "source": [
    "import pandas as pd\n",
    "\n",
    "\"\"\"\n",
    "Compare the rankings of between borda count methods and the official borda,\n",
    "and retrieves discrepancies between the rankings for all combos of week and years\n",
    "\n",
    "Parameter:\n",
    "    Filename for a csv file containing borda comparison data (comparing top1, top3, top5, etc.)\n",
    "\n",
    "Output:\n",
    "    Dataframe that contains discrepancies in Borda Count data, which is written to a corresponding csv file\n",
    "\"\"\"\n",
    "def top3_discrepancy_finder(filename):\n",
    "    #Reads in borda count csv, which will be examined for discrepancies\n",
    "    dataset = pd.read_csv(f\"../{filename}\",header=None)\n",
    "    dataset.head()\n",
    "    discrepancy_results = []\n",
    "    for index, row in dataset.iterrows():\n",
    "        #Iteratively checks rows for discrepancies (making sure to exclude csv header from the check)\n",
    "        if index:\n",
    "            for i in range(4, 14, 2):\n",
    "                if row[i-1] != row[2]:\n",
    "                    #Construct the data corresponding with a row in 'borda_top3_discrepancies.csv'\n",
    "                    discrepancy_results.append({\n",
    "                        'Season': row[0],\n",
    "                        'Week': row[1],\n",
    "                        'Official Borda': f'{row[2]}',\n",
    "                        'Alternate Borda Method Teams': f'{row[i-1]}',\n",
    "                        'Alternate Borda Method Rankings': f'{row[i]}'\n",
    "                    })\n",
    "\n",
    "    discrepancy_results_df = pd.DataFrame(discrepancy_results)\n",
    "    return discrepancy_results_df\n",
    "\n",
    "def csv_creator():\n",
    "    #Clear csv files\n",
    "    f = open(\"borda_top3_discrepancies.csv\", \"w\")\n",
    "    f.truncate()\n",
    "    f.close()\n",
    "\n",
    "    #Construct DataFrame that contains discrepancy data, which is written to corresponding csv file\n",
    "    all_top3_discrepancies = top3_discrepancy_finder(\"borda_comparison_top3.csv\")\n",
    "    all_top3_discrepancies.to_csv(\"borda_top3_discrepancies.csv\", index=False)\n",
    "\n",
    "csv_creator()"
   ]
  }
 ],
 "metadata": {
  "kernelspec": {
   "display_name": "base",
   "language": "python",
   "name": "python3"
  },
  "language_info": {
   "codemirror_mode": {
    "name": "ipython",
    "version": 3
   },
   "file_extension": ".py",
   "mimetype": "text/x-python",
   "name": "python",
   "nbconvert_exporter": "python",
   "pygments_lexer": "ipython3",
   "version": "3.12.4"
  }
 },
 "nbformat": 4,
 "nbformat_minor": 2
}
