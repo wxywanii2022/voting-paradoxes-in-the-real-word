{
 "cells": [
  {
   "cell_type": "code",
   "execution_count": 20,
   "metadata": {},
   "outputs": [
    {
     "name": "stdout",
     "output_type": "stream",
     "text": [
      "50\n"
     ]
    }
   ],
   "source": [
    "import csv\n",
    "import pandas as pd\n",
    "import os\n",
    "\n",
    "\"\"\"\n",
    "Calculate Borda points for voted teams in a specific week and season\n",
    "from a given CSV file containing AP College Poll ballots for the corresponding week and season.\n",
    "\n",
    "Parameters:\n",
    "    weights (list): List of weights assigned to team rankings.\n",
    "    year (str): The year for which to calculate Borda points.\n",
    "    week (str): The week within the corresponding year for which to calculate Borda points.\n",
    "    output_filename(str)\n",
    "\"\"\"\n",
    "output_file = None\n",
    "\n",
    "def removed_borda_count(weights, year, week, output_filename, removed_team):\n",
    "    global output_file\n",
    "    #Reads in csv file the provided week and year from ballot_data_by_season_and_week directory if it exists\n",
    "    try:\n",
    "        df = pd.read_csv(f'../../../../data/college-polls/processed_data/ballot_data_by_season_and_week/season_{year}/{year}_week{week}_top25.csv')\n",
    "    except:\n",
    "        print(f'Data for this combination of week and year (year: {year}, week: {week}) was not available in the local ballot_data_by_season_and_week directory')\n",
    "        return\n",
    "    columns_1_to_25 = ['1st', '2nd', '3rd', '4th', '5th', '6th', '7th', '8th', '9th', '10th', '11th', '12th', '13th', '14th', '15th', '16th', '17th', '18th', '19th', '20th', '21st', '22nd', '23rd', '24th', '25th']\n",
    "    borda_scores = dict()\n",
    "\n",
    "    #Iterates through ranking orders in columns_1_to_25\n",
    "    for i in range(len(columns_1_to_25)):\n",
    "        ith_ranked_team = df[columns_1_to_25[i]].tolist()\n",
    "        if removed_team in ith_ranked_team: ith_ranked_team.remove(removed_team)\n",
    "        #Iterates through all teams voted in 'columns_1_to_25[i]' position by voters and adjusts the teams' borda count by the point \n",
    "        # total corresponding with 'columns_1_to_25[i]' position ranking\n",
    "        for team in ith_ranked_team:\n",
    "            if team not in borda_scores: borda_scores[team] = 0\n",
    "            if i < len(weights):\n",
    "                borda_scores[team] += weights[i]\n",
    "\n",
    "    #Sorts teams by their Borda Count in descending order     \n",
    "    sorted_teams = sorted(borda_scores.items(), key=lambda x: x[1], reverse=True)\n",
    "\n",
    "    #Creates borda could folder for specific borda weight distribution and year if it does not exist\n",
    "    os.makedirs(f\"./borda_{output_filename}/season_{year}\", exist_ok=True)\n",
    "    output_file = f'./borda_{output_filename}/season_{year}/{year}_week{week}_{output_filename}_removed_{removed_team}.csv'\n",
    "\n",
    "    #Writes the borda count data to the corresponding csv file\n",
    "    with open(output_file, mode='w', newline='') as file:\n",
    "        writer = csv.writer(file)\n",
    "        writer.writerow(['Teams', 'Borda Points'])\n",
    "        writer.writerows(sorted_teams) \n",
    "    \n",
    "#list of top 25 teams\n",
    "top25_df = pd.read_csv(\"../results/borda_top25/season_2014/2014_week1_top25.csv\")\n",
    "ranked_teams = top25_df[\"Teams\"].tolist()\n",
    "print(len(ranked_teams))\n",
    "\n",
    "paradox_find_results = []\n",
    "for i in range(len(ranked_teams)):\n",
    "    removed_borda_count([25, 24, 23, 22, 21, 20, 19, 18, 17, 16, 15, 14, 13, 12, 11, 10, 9, 8, 7, 6, 5, 4, 3, 2, 1], \"2014\", \"1\", \"top25\", ranked_teams[i])\n",
    "    new_df = pd.read_csv(output_file)\n",
    "    new_ranked_teams = new_df[\"Teams\"].tolist()\n",
    "    for j in range(len(ranked_teams)):\n",
    "        if j < len(new_ranked_teams):\n",
    "            if new_ranked_teams[j] != ranked_teams[j]:\n",
    "                new_rank = \"NR\"\n",
    "                if ranked_teams[j] in new_ranked_teams: new_rank = new_ranked_teams.index(ranked_teams[j]) + 1\n",
    "                paradox_find_results.append({\n",
    "                    'Season': \"2014\",\n",
    "                    'Week': \"1\",\n",
    "                    'Removed Team': f'{ranked_teams[i]}',\n",
    "                    'Highest Ranked Team w/Different Rank': f'{ranked_teams[j]}',\n",
    "                    'Original Ranking': f'{j + 1}',\n",
    "                    'New Ranking': f'{new_rank}'\n",
    "                })\n",
    "                break\n",
    "\n",
    "paradox_find_results_df = pd.DataFrame(paradox_find_results)\n",
    "paradox_find_results_df.to_csv(\"found_paradoxes.csv\", index=False)\n"
   ]
  },
  {
   "cell_type": "code",
   "execution_count": null,
   "metadata": {},
   "outputs": [],
   "source": []
  }
 ],
 "metadata": {
  "kernelspec": {
   "display_name": "base",
   "language": "python",
   "name": "python3"
  },
  "language_info": {
   "codemirror_mode": {
    "name": "ipython",
    "version": 3
   },
   "file_extension": ".py",
   "mimetype": "text/x-python",
   "name": "python",
   "nbconvert_exporter": "python",
   "pygments_lexer": "ipython3",
   "version": "3.12.4"
  }
 },
 "nbformat": 4,
 "nbformat_minor": 2
}
