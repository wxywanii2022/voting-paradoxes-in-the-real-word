{
 "cells": [
  {
   "cell_type": "code",
   "execution_count": 10,
   "metadata": {},
   "outputs": [
    {
     "name": "stdout",
     "output_type": "stream",
     "text": [
      "Data for this combination of week and year (year: 2015, week: 2) was not available in the local ballot_data_by_season_and_week directory\n",
      "Data for this combination of week and year (year: 2015, week: 17) was not available in the local ballot_data_by_season_and_week directory\n",
      "Data for this combination of week and year (year: 2016, week: 17) was not available in the local ballot_data_by_season_and_week directory\n",
      "Data for this combination of week and year (year: 2017, week: 17) was not available in the local ballot_data_by_season_and_week directory\n",
      "Data for this combination of week and year (year: 2018, week: 17) was not available in the local ballot_data_by_season_and_week directory\n",
      "Data for this combination of week and year (year: 2021, week: 17) was not available in the local ballot_data_by_season_and_week directory\n",
      "Data for this combination of week and year (year: 2022, week: 17) was not available in the local ballot_data_by_season_and_week directory\n",
      "Data for this combination of week and year (year: 2023, week: 17) was not available in the local ballot_data_by_season_and_week directory\n",
      "Data for this combination of week and year (year: 2024, week: 6) was not available in the local ballot_data_by_season_and_week directory\n",
      "Data for this combination of week and year (year: 2024, week: 7) was not available in the local ballot_data_by_season_and_week directory\n",
      "Data for this combination of week and year (year: 2024, week: 8) was not available in the local ballot_data_by_season_and_week directory\n",
      "Data for this combination of week and year (year: 2024, week: 9) was not available in the local ballot_data_by_season_and_week directory\n",
      "Data for this combination of week and year (year: 2024, week: 10) was not available in the local ballot_data_by_season_and_week directory\n",
      "Data for this combination of week and year (year: 2024, week: 11) was not available in the local ballot_data_by_season_and_week directory\n",
      "Data for this combination of week and year (year: 2024, week: 12) was not available in the local ballot_data_by_season_and_week directory\n",
      "Data for this combination of week and year (year: 2024, week: 13) was not available in the local ballot_data_by_season_and_week directory\n",
      "Data for this combination of week and year (year: 2024, week: 14) was not available in the local ballot_data_by_season_and_week directory\n",
      "Data for this combination of week and year (year: 2024, week: 15) was not available in the local ballot_data_by_season_and_week directory\n",
      "Data for this combination of week and year (year: 2024, week: 16) was not available in the local ballot_data_by_season_and_week directory\n",
      "Data for this combination of week and year (year: 2024, week: 17) was not available in the local ballot_data_by_season_and_week directory\n"
     ]
    }
   ],
   "source": [
    "import csv\n",
    "import pandas as pd\n",
    "\n",
    "def top_team_comparisons(year, week):\n",
    "    try:\n",
    "        df_check = pd.read_csv(f\"../borda_top25/season_{year}/{year}_week{week}_top25.csv\")\n",
    "    except:\n",
    "        print(f'Data for this combination of week and year (year: {year}, week: {week}) was not available in the local ballot_data_by_season_and_week directory')\n",
    "        return\n",
    "\n",
    "    top25_teams = pd.read_csv(f\"../borda_top25/season_{year}/{year}_week{week}_top25.csv\")[\"Teams\"].tolist()\n",
    "    top10_teams = pd.read_csv(f\"../borda_top10/season_{year}/{year}_week{week}_top10.csv\")[\"Teams\"].tolist()\n",
    "    top5_teams = pd.read_csv(f\"../borda_top5/season_{year}/{year}_week{week}_top5.csv\")[\"Teams\"].tolist()\n",
    "    top3_teams = pd.read_csv(f\"../borda_top3/season_{year}/{year}_week{week}_top3.csv\")[\"Teams\"].tolist()\n",
    "    top1_teams = pd.read_csv(f\"../borda_top1/season_{year}/{year}_week{week}_top1.csv\")[\"Teams\"].tolist()\n",
    "    dowdall_teams = pd.read_csv(f\"../borda_Dowdall/season_{year}/{year}_week{week}_Dowdall.csv\")[\"Teams\"].tolist()\n",
    "\n",
    "    with open(\"borda_comparison_top1.csv\", \"a\") as file:\n",
    "        file.write(f\"{year},{week},{top25_teams[0]},{top1_teams[0]},{top3_teams[0]},{top5_teams[0]},{top10_teams[0]},{dowdall_teams[0]}\\n\")\n",
    "    \n",
    "    top3_1 = \"(\" + str(top1_teams[0]) + \",\" + str(top1_teams[1]) + \",\" + str(top1_teams[2]) + \")\"\n",
    "    top3_3 = \"(\" + str(top3_teams[0]) + \",\" + str(top3_teams[1]) + \",\" + str(top3_teams[2]) + \")\"\n",
    "    top3_5 = \"(\" + str(top5_teams[0]) + \",\" + str(top5_teams[1]) + \",\" + str(top5_teams[2]) + \")\"\n",
    "    top3_10 = \"(\" + str(top10_teams[0]) + \",\" + str(top10_teams[1]) + \",\" + str(top10_teams[2]) + \")\"\n",
    "    top3_25 = \"(\" + str(top25_teams[0]) + \",\" + str(top25_teams[1]) + \",\" + str(top25_teams[2]) + \")\"\n",
    "    top3_dow = \"(\" + str(dowdall_teams[0]) + \",\" + str(dowdall_teams[1]) + \",\" + str(dowdall_teams[2]) + \")\"\n",
    "\n",
    "    with open(\"borda_comparison_top3.csv\", \"a\") as file:\n",
    "        file.write(f\"{year},{week},{top3_25},{top3_1},{top3_3},{top3_5},{top3_10},{top3_dow}\\n\")\n",
    "\n",
    "def create_csvs():\n",
    "    f = open(\"borda_comparison_top1.csv\", \"w\")\n",
    "    f.truncate()\n",
    "    f.close()\n",
    "\n",
    "    with open(\"borda_comparison_top1.csv\", \"a\") as file:\n",
    "        file.write(\"Season,Week,Official Borda,Borda-Top1,Borda-Top3,Borda-Top5,Borda-Top10,Dowdall\\n\")\n",
    "\n",
    "    f = open(\"borda_comparison_top3.csv\", \"w\")\n",
    "    f.truncate()\n",
    "    f.close()\n",
    "\n",
    "    with open(\"borda_comparison_top3.csv\", \"a\") as file:\n",
    "        file.write(\"Season,Week,Official Borda,Borda-Top1,Borda-Top3,Borda-Top5,Borda-Top10,Dowdall\\n\")\n",
    "    \n",
    "    for year in range(2014, 2025):\n",
    "        for week in range(1, 18):\n",
    "            top_team_comparisons(str(year), str(week))\n",
    "\n",
    "create_csvs()"
   ]
  }
 ],
 "metadata": {
  "kernelspec": {
   "display_name": "base",
   "language": "python",
   "name": "python3"
  },
  "language_info": {
   "codemirror_mode": {
    "name": "ipython",
    "version": 3
   },
   "file_extension": ".py",
   "mimetype": "text/x-python",
   "name": "python",
   "nbconvert_exporter": "python",
   "pygments_lexer": "ipython3",
   "version": "3.12.4"
  }
 },
 "nbformat": 4,
 "nbformat_minor": 2
}
