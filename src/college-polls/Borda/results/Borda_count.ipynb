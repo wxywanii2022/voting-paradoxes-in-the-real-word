{
 "cells": [
  {
   "cell_type": "code",
   "execution_count": 1,
   "metadata": {},
   "outputs": [
    {
     "name": "stdout",
     "output_type": "stream",
     "text": [
      "Data for this combination of week and year (year: 2015, week: 2) was not available in the local ballot_data_by_season_and_week directory\n",
      "Data for this combination of week and year (year: 2015, week: 17) was not available in the local ballot_data_by_season_and_week directory\n",
      "Data for this combination of week and year (year: 2016, week: 17) was not available in the local ballot_data_by_season_and_week directory\n",
      "Data for this combination of week and year (year: 2017, week: 17) was not available in the local ballot_data_by_season_and_week directory\n",
      "Data for this combination of week and year (year: 2018, week: 17) was not available in the local ballot_data_by_season_and_week directory\n",
      "Data for this combination of week and year (year: 2021, week: 17) was not available in the local ballot_data_by_season_and_week directory\n",
      "Data for this combination of week and year (year: 2022, week: 17) was not available in the local ballot_data_by_season_and_week directory\n",
      "Data for this combination of week and year (year: 2023, week: 17) was not available in the local ballot_data_by_season_and_week directory\n",
      "Data for this combination of week and year (year: 2024, week: 6) was not available in the local ballot_data_by_season_and_week directory\n",
      "Data for this combination of week and year (year: 2024, week: 7) was not available in the local ballot_data_by_season_and_week directory\n",
      "Data for this combination of week and year (year: 2024, week: 8) was not available in the local ballot_data_by_season_and_week directory\n",
      "Data for this combination of week and year (year: 2024, week: 9) was not available in the local ballot_data_by_season_and_week directory\n",
      "Data for this combination of week and year (year: 2024, week: 10) was not available in the local ballot_data_by_season_and_week directory\n",
      "Data for this combination of week and year (year: 2024, week: 11) was not available in the local ballot_data_by_season_and_week directory\n",
      "Data for this combination of week and year (year: 2024, week: 12) was not available in the local ballot_data_by_season_and_week directory\n",
      "Data for this combination of week and year (year: 2024, week: 13) was not available in the local ballot_data_by_season_and_week directory\n",
      "Data for this combination of week and year (year: 2024, week: 14) was not available in the local ballot_data_by_season_and_week directory\n",
      "Data for this combination of week and year (year: 2024, week: 15) was not available in the local ballot_data_by_season_and_week directory\n",
      "Data for this combination of week and year (year: 2024, week: 16) was not available in the local ballot_data_by_season_and_week directory\n",
      "Data for this combination of week and year (year: 2024, week: 17) was not available in the local ballot_data_by_season_and_week directory\n"
     ]
    }
   ],
   "source": [
    "import csv\n",
    "import pandas as pd\n",
    "import os\n",
    "\n",
    "\"\"\"\n",
    "Calculate Borda points for voted teams in a specific week and season\n",
    "from a given CSV file containing AP College Poll ballots for the corresponding week and season.\n",
    "\n",
    "Parameters:\n",
    "    weights (list): List of weights assigned to team rankings.\n",
    "    year (str): The year for which to calculate Borda points.\n",
    "    week (str): The week within the corresponding year for which to calculate Borda points.\n",
    "    output_filename(str)\n",
    "\"\"\"\n",
    "\n",
    "\n",
    "def borda_count_ap_polls(weights, year, week, output_filename):\n",
    "    #Reads in csv file the provided week and year from ballot_data_by_season_and_week directory if it exists\n",
    "    try:\n",
    "        df = pd.read_csv(f'../../../../data/college-polls/processed_data/ballot_data_by_season_and_week/season_{year}/{year}_week{week}_top25.csv')\n",
    "    except:\n",
    "        print(f'Data for this combination of week and year (year: {year}, week: {week}) was not available in the local ballot_data_by_season_and_week directory')\n",
    "        return\n",
    "    columns_1_to_25 = ['1st', '2nd', '3rd', '4th', '5th', '6th', '7th', '8th', '9th', '10th', '11th', '12th', '13th', '14th', '15th', '16th', '17th', '18th', '19th', '20th', '21st', '22nd', '23rd', '24th', '25th']\n",
    "    borda_scores = dict()\n",
    "\n",
    "    #Iterates through ranking orders in columns_1_to_25\n",
    "    for i in range(len(columns_1_to_25)):\n",
    "        ith_ranked_team = df[columns_1_to_25[i]].tolist()\n",
    "\n",
    "        #Iterates through all teams voted in 'columns_1_to_25[i]' position by voters and adjusts the teams' borda count by the point \n",
    "        # total corresponding with 'columns_1_to_25[i]' position ranking\n",
    "        for team in ith_ranked_team:\n",
    "            if team not in borda_scores: borda_scores[team] = 0\n",
    "            if i < len(weights):\n",
    "                borda_scores[team] += weights[i]\n",
    "\n",
    "    #Sorts teams by their Borda Count in descending order     \n",
    "    sorted_teams = sorted(borda_scores.items(), key=lambda x: x[1], reverse=True)\n",
    "\n",
    "    #Creates borda could folder for specific borda weight distribution and year if it does not exist\n",
    "    os.makedirs(f\"./borda_{output_filename}/season_{year}\", exist_ok=True)\n",
    "    output_file = f'./borda_{output_filename}/season_{year}/{year}_week{week}_{output_filename}.csv'\n",
    "\n",
    "    #Writes the borda count data to the corresponding csv file\n",
    "    with open(output_file, mode='w', newline='') as file:\n",
    "        writer = csv.writer(file)\n",
    "        writer.writerow(['Teams', 'Borda Points'])\n",
    "        writer.writerows(sorted_teams)\n",
    "\n",
    "#Iterate through all combinations of weeks and years in order to craft borda count csvs for the corresponding week and year combo\n",
    "for year in range(2014, 2025):\n",
    "    for week in range(1, 18):\n",
    "        borda_count_ap_polls([25, 24, 23, 22, 21, 20, 19, 18, 17, 16, 15, 14, 13, 12, 11, 10, 9, 8, 7, 6, 5, 4, 3, 2, 1], str(year), str(week), \"top25\")"
   ]
  },
  {
   "cell_type": "code",
   "execution_count": null,
   "metadata": {},
   "outputs": [],
   "source": []
  }
 ],
 "metadata": {
  "kernelspec": {
   "display_name": "Python 3",
   "language": "python",
   "name": "python3"
  },
  "language_info": {
   "codemirror_mode": {
    "name": "ipython",
    "version": 3
   },
   "file_extension": ".py",
   "mimetype": "text/x-python",
   "name": "python",
   "nbconvert_exporter": "python",
   "pygments_lexer": "ipython3",
   "version": "3.11.2"
  }
 },
 "nbformat": 4,
 "nbformat_minor": 2
}
