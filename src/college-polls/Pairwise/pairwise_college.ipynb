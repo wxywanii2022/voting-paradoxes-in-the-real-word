{
 "cells": [
  {
   "cell_type": "code",
   "execution_count": 2,
   "metadata": {},
   "outputs": [
    {
     "name": "stdout",
     "output_type": "stream",
     "text": [
      "c:\\Research\\VotingParadoxes\\src\\college-polls\\Pairwise\n"
     ]
    }
   ],
   "source": [
    "import csv\n",
    "import pandas as pd\n",
    "import os\n",
    "from itertools import combinations\n",
    "print(os.getcwd())"
   ]
  },
  {
   "cell_type": "code",
   "execution_count": 9,
   "metadata": {},
   "outputs": [],
   "source": [
    "df = pd.read_csv(r'C:\\Research\\VotingParadoxes\\data\\college-polls\\processed_data\\auxiliary_files\\voted_teams_by_season_and_week\\season_2014\\2014_week1_voted_teams.csv')\n",
    "df2 = pd.read_csv(r'C:\\Research\\VotingParadoxes\\data\\college-polls\\processed_data\\auxiliary_files\\voters_by_season_and_week\\season_2014\\2014_week1_voters.csv')\n",
    "team_list = list(df['Voted Teams'])\n",
    "voter_list = list(df2['Voters'])\n",
    "df3 = pd.read_csv(r'C:\\Research\\VotingParadoxes\\data\\college-polls\\processed_data\\ballot_data_by_season_and_week\\season_2014\\2014_week1_top25.csv')\n",
    "columns_1_to_25 = ['1st', '2nd', '3rd', '4th', '5th', '6th', '7th', '8th', '9th', '10th', '11th', '12th', '13th', '14th', '15th', '16th', '17th', '18th', '19th', '20th', '21st', '22nd', '23rd', '24th', '25th']\n",
    "comparisons = []\n",
    "for team1, team2 in combinations(team_list, 2):\n",
    "    item_list = []\n",
    "    item_list.append(team1)\n",
    "    item_list.append(team2)\n",
    "    a_greater = 0\n",
    "    b_greater = 0\n",
    "    for i in range(len(voter_list)):\n",
    "        a_rank = 0\n",
    "        b_rank = 0\n",
    "        for j in range(25):\n",
    "            if (team1 == df3[columns_1_to_25[j]][i]):\n",
    "                a_rank = 25 - j\n",
    "            if (team2 == df3[columns_1_to_25[j]][i]):\n",
    "                b_rank = 25 - j\n",
    "        if a_rank > b_rank:\n",
    "            a_greater+=1\n",
    "        elif b_rank > a_rank:\n",
    "            b_greater+=1\n",
    "    item_list.append(a_greater)\n",
    "    item_list.append(b_greater)\n",
    "    comparisons.append(item_list)\n",
    "comparison_df = pd.DataFrame(comparisons)\n",
    "comparison_df.columns = ['TeamA', 'TeamB', 'A>B', 'B>A']\n",
    "comparison_df.to_csv(r'C:\\Research\\VotingParadoxes\\src\\college-polls\\Pairwise\\results\\2014_week1_condorcet.csv', index=False)"
   ]
  }
 ],
 "metadata": {
  "kernelspec": {
   "display_name": "Python 3",
   "language": "python",
   "name": "python3"
  },
  "language_info": {
   "codemirror_mode": {
    "name": "ipython",
    "version": 3
   },
   "file_extension": ".py",
   "mimetype": "text/x-python",
   "name": "python",
   "nbconvert_exporter": "python",
   "pygments_lexer": "ipython3",
   "version": "3.11.9"
  }
 },
 "nbformat": 4,
 "nbformat_minor": 2
}
